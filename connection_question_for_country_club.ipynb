{
 "cells": [
  {
   "cell_type": "code",
   "execution_count": 1,
   "id": "e62e50af",
   "metadata": {},
   "outputs": [
    {
     "name": "stdout",
     "output_type": "stream",
     "text": [
      "2.6.0\n",
      "2. Query all tasks\n",
      "(0, 'Tennis Court 1', 5, 25, 10000, 200)\n",
      "(1, 'Tennis Court 2', 5, 25, 8000, 200)\n",
      "(2, 'Badminton Court', 0, 15.5, 4000, 50)\n",
      "(3, 'Table Tennis', 0, 5, 320, 10)\n",
      "(4, 'Massage Room 1', 9.9, 80, 4000, 3000)\n",
      "(5, 'Massage Room 2', 9.9, 80, 4000, 3000)\n",
      "(6, 'Squash Court', 3.5, 17.5, 5000, 80)\n",
      "(7, 'Snooker Table', 0, 5, 450, 15)\n",
      "(8, 'Pool Table', 0, 5, 400, 15)\n"
     ]
    }
   ],
   "source": [
    "import sqlite3\n",
    "from sqlite3 import Error\n",
    "\n",
    " \n",
    "def create_connection(db_file):\n",
    "    \"\"\" create a database connection to the SQLite database\n",
    "        specified by the db_file\n",
    "    :param db_file: database file\n",
    "    :return: Connection object or None\n",
    "    \"\"\"\n",
    "    conn = None\n",
    "    try:\n",
    "        conn = sqlite3.connect(db_file)\n",
    "        print(sqlite3.version)\n",
    "    except Error as e:\n",
    "        print(e)\n",
    " \n",
    "    return conn\n",
    "\n",
    " \n",
    "def select_all_tasks(conn):\n",
    "    \"\"\"\n",
    "    Query all rows in the tasks table\n",
    "    :param conn: the Connection object\n",
    "    :return:\n",
    "    \"\"\"\n",
    "    cur = conn.cursor()\n",
    "    \n",
    "    query1 = \"\"\"\n",
    "        SELECT *\n",
    "        FROM FACILITIES\n",
    "        \"\"\"\n",
    "    cur.execute(query1)\n",
    " \n",
    "    rows = cur.fetchall()\n",
    " \n",
    "    for row in rows:\n",
    "        print(row)\n",
    "\n",
    "\n",
    "def main():\n",
    "    database = \"sqlite_db_pythonsqlite.db\"\n",
    " \n",
    "    # create a database connection\n",
    "    conn = create_connection(database)\n",
    "    with conn: \n",
    "        print(\"2. Query all tasks\")\n",
    "        select_all_tasks(conn)\n",
    " \n",
    " \n",
    "if __name__ == '__main__':\n",
    "    main()"
   ]
  },
  {
   "cell_type": "markdown",
   "id": "cbf8fbd5",
   "metadata": {},
   "source": [
    "QUESTIONS:\n",
    "/* Q10: Produce a list of facilities with a total revenue less than 1000.\n",
    "The output of facility name and total revenue, sorted by revenue. Remember\n",
    "that there's a different cost for guests and members! */\n"
   ]
  },
  {
   "cell_type": "code",
   "execution_count": 2,
   "id": "0e403aab",
   "metadata": {},
   "outputs": [],
   "source": [
    "def main():\n",
    "    database = \"sqlite_db_pythonsqlite.db\"\n",
    " \n",
    "    # create a database connection\n",
    "    conn = create_connection(database)\n",
    "    with conn: \n",
    "        print(\"2. Query all tasks\")\n",
    "        select_all_tasks(conn)"
   ]
  },
  {
   "cell_type": "code",
   "execution_count": 3,
   "id": "63314e44",
   "metadata": {},
   "outputs": [],
   "source": [
    "def create_connection(db_file):\n",
    "    \"\"\" create a database connection to the SQLite database\n",
    "        specified by the db_file\n",
    "    :param db_file: database file\n",
    "    :return: Connection object or None\n",
    "    \"\"\"\n",
    "    conn = None\n",
    "    try:\n",
    "        conn = sqlite3.connect(db_file)\n",
    "        print(sqlite3.version)\n",
    "    except Error as e:\n",
    "        print(e)\n",
    " \n",
    "    return conn"
   ]
  },
  {
   "cell_type": "code",
   "execution_count": 4,
   "id": "19c81744",
   "metadata": {},
   "outputs": [],
   "source": [
    "def select_all_tasks(conn, query1):\n",
    "    \"\"\"\n",
    "    Query all rows in the tasks table\n",
    "    :param conn: the Connection object\n",
    "    :return:\n",
    "    \"\"\"\n",
    "    cur = conn.cursor()\n",
    "    \n",
    "   \n",
    "    cur.execute(query1)\n",
    " \n",
    "    rows = cur.fetchall()\n",
    " \n",
    "    for row in rows:\n",
    "        print(row)"
   ]
  },
  {
   "cell_type": "code",
   "execution_count": 7,
   "id": "a688d14b",
   "metadata": {},
   "outputs": [
    {
     "name": "stdout",
     "output_type": "stream",
     "text": [
      "2.6.0\n",
      "('Badminton Court', 2, 604.5, 0)\n",
      "('Massage Room 1', 4, 16640, 4167.900000000023)\n",
      "('Massage Room 2', 5, 6720, 267.30000000000007)\n",
      "('Pool Table', 8, 265, 0)\n",
      "('Snooker Table', 7, 115, 0)\n",
      "('Squash Court', 6, 4287.5, 682.5)\n",
      "('Table Tennis', 3, 90, 0)\n",
      "('Tennis Court 1', 0, 2500, 1540)\n",
      "('Tennis Court 2', 1, 2825, 1380)\n"
     ]
    }
   ],
   "source": [
    "database = \"sqlite_db_pythonsqlite.db\"\n",
    "conn = create_connection(database)\n",
    "select_all_tasks( conn, \"\"\"SELECT f.name as facility,f.facid,\n",
    "sum(case when b.memid = 0 then guestcost end) as guest_total,\n",
    "sum(case when b.memid != 0 then membercost end) as member_total\n",
    "FROM `Bookings` as b \n",
    "left join `Facilities` as f on b.facid=f.facid\n",
    "group by facility \"\"\")"
   ]
  },
  {
   "cell_type": "markdown",
   "id": "f30f0a59",
   "metadata": {},
   "source": [
    "# /* Q10: Produce a list of facilities with a total revenue less than 1000.\n",
    "# The output of facility name and total revenue, sorted by revenue. Remember\n",
    "# that there's a different cost for guests and members! */"
   ]
  },
  {
   "cell_type": "code",
   "execution_count": 8,
   "id": "901a0e28",
   "metadata": {},
   "outputs": [
    {
     "name": "stdout",
     "output_type": "stream",
     "text": [
      "('Table Tennis', 90)\n",
      "('Snooker Table', 115)\n",
      "('Pool Table', 265)\n",
      "('Badminton Court', 604.5)\n"
     ]
    }
   ],
   "source": [
    "# /* Q10: Produce a list of facilities with a total revenue less than 1000.\n",
    "# The output of facility name and total revenue, sorted by revenue. Remember\n",
    "# that there's a different cost for guests and members! */\n",
    "\n",
    "\n",
    "select_all_tasks( conn, \"\"\"with t as (SELECT f.name as facility,f.facid,\n",
    "sum(case when b.memid = 0 then guestcost end) as guest_total,\n",
    "sum(case when b.memid != 0 then membercost end) as member_total\n",
    "FROM `Bookings` as b \n",
    "left join `Facilities` as f on b.facid=f.facid\n",
    "group by facility) \n",
    "select facility,(guest_total+ member_total) as total_revenue\n",
    "from t \n",
    "where total_revenue < 1000\n",
    "order by total_revenue\"\"\")"
   ]
  },
  {
   "cell_type": "markdown",
   "id": "42e3bceb",
   "metadata": {},
   "source": [
    "# /* Q11: Produce a report of members and who recommended them in alphabetic surname,firstname order */\n"
   ]
  },
  {
   "cell_type": "code",
   "execution_count": 9,
   "id": "7bc71512",
   "metadata": {},
   "outputs": [
    {
     "name": "stdout",
     "output_type": "stream",
     "text": [
      "(15, 'Florence', 'Bader', '9', 'Ponder', 'Stibbons')\n",
      "(12, 'Anne', 'Baker', '9', 'Ponder', 'Stibbons')\n",
      "(16, 'Timothy', 'Baker', '13', 'Jemima', 'Farrell')\n",
      "(8, 'Tim', 'Boothe', '3', 'Tim', 'Rownam')\n",
      "(5, 'Gerald', 'Butters', '1', 'Darren', 'Smith')\n",
      "(22, 'Joan', 'Coplin', '16', 'Timothy', 'Baker')\n",
      "(36, 'Erica', 'Crumpet', '2', 'Tracy', 'Smith')\n",
      "(7, 'Nancy', 'Dare', '4', 'Janice', 'Joplette')\n",
      "(20, 'Matthew', 'Genting', '5', 'Gerald', 'Butters')\n",
      "(35, 'John', 'Hunt', '30', 'Millicent', 'Purview')\n",
      "(11, 'David', 'Jones', '4', 'Janice', 'Joplette')\n",
      "(26, 'Douglas', 'Jones', '11', 'David', 'Jones')\n",
      "(4, 'Janice', 'Joplette', '1', 'Darren', 'Smith')\n",
      "(21, 'Anna', 'Mackenzie', '1', 'Darren', 'Smith')\n",
      "(10, 'Charles', 'Owen', '1', 'Darren', 'Smith')\n",
      "(17, 'David', 'Pinker', '13', 'Jemima', 'Farrell')\n",
      "(30, 'Millicent', 'Purview', '2', 'Tracy', 'Smith')\n",
      "(27, 'Henrietta', 'Rumney', '20', 'Matthew', 'Genting')\n",
      "(24, 'Ramnaresh', 'Sarwin', '15', 'Florence', 'Bader')\n",
      "(14, 'Jack', 'Smith', '1', 'Darren', 'Smith')\n",
      "(9, 'Ponder', 'Stibbons', '6', 'Burton', 'Tracy')\n",
      "(29, 'Henry', 'Worthington-Smyth', '2', 'Tracy', 'Smith')\n"
     ]
    }
   ],
   "source": [
    "# /* Q11: Produce a report of members and who recommended them in alphabetic surname,firstname order */\n",
    "\n",
    "\n",
    "select_all_tasks( conn, \"\"\"\n",
    "with m1 as ( select firstname,surname,memid,recommendedby from `Members`),\n",
    "m2 as ( select firstname,surname,memid,recommendedby from `Members`)\n",
    "select m2.memid, m2.firstname, m2.surname,m2.recommendedby,m1.firstname, m1.surname\n",
    "from m1\n",
    "join m2\n",
    "on m1.memid = m2.recommendedby\n",
    "order by m2.surname, m2.firstname\n",
    "\n",
    "\"\"\")"
   ]
  },
  {
   "cell_type": "markdown",
   "id": "d5d00740",
   "metadata": {},
   "source": [
    "# /* Q12: Find the facilities with their usage by member, but not guests */"
   ]
  },
  {
   "cell_type": "code",
   "execution_count": 12,
   "id": "9c668d17",
   "metadata": {},
   "outputs": [
    {
     "name": "stdout",
     "output_type": "stream",
     "text": [
      "(0, 308, 'Tennis Court 1')\n",
      "(1, 276, 'Tennis Court 2')\n",
      "(2, 344, 'Badminton Court')\n",
      "(3, 385, 'Table Tennis')\n",
      "(4, 421, 'Massage Room 1')\n",
      "(5, 27, 'Massage Room 2')\n",
      "(6, 195, 'Squash Court')\n",
      "(7, 421, 'Snooker Table')\n",
      "(8, 783, 'Pool Table')\n"
     ]
    }
   ],
   "source": [
    "select_all_tasks( conn,\"\"\"SELECT b.facid, COUNT( b.memid ) AS mem_usage, f.name\n",
    "FROM (\n",
    "SELECT facid, memid\n",
    "FROM Bookings\n",
    "WHERE memid !=0\n",
    ") AS b\n",
    "LEFT JOIN Facilities AS f ON b.facid = f.facid\n",
    "GROUP BY b.facid\"\"\")"
   ]
  },
  {
   "cell_type": "markdown",
   "id": "b1b5f954",
   "metadata": {},
   "source": [
    "\n",
    "# /* Q13: Find the facilities usage by month, but not guests */"
   ]
  },
  {
   "cell_type": "code",
   "execution_count": 13,
   "id": "5f5a7607",
   "metadata": {},
   "outputs": [
    {
     "name": "stdout",
     "output_type": "stream",
     "text": [
      "('07', 480)\n",
      "('08', 1168)\n",
      "('09', 1512)\n"
     ]
    }
   ],
   "source": [
    "select_all_tasks( conn,\"\"\"SELECT b.months, COUNT( b.memid ) AS mem_usage\n",
    "FROM (\n",
    "SELECT strftime('%m', starttime ) AS months, memid\n",
    "FROM Bookings\n",
    "WHERE memid !=0\n",
    ") AS b\n",
    "GROUP BY b.months\"\"\")"
   ]
  },
  {
   "cell_type": "markdown",
   "id": "6eab1a7d",
   "metadata": {},
   "source": [
    "# test pandas_sql_query below "
   ]
  },
  {
   "cell_type": "code",
   "execution_count": 100,
   "id": "7b22d40a",
   "metadata": {},
   "outputs": [
    {
     "data": {
      "text/html": [
       "<div>\n",
       "<style scoped>\n",
       "    .dataframe tbody tr th:only-of-type {\n",
       "        vertical-align: middle;\n",
       "    }\n",
       "\n",
       "    .dataframe tbody tr th {\n",
       "        vertical-align: top;\n",
       "    }\n",
       "\n",
       "    .dataframe thead th {\n",
       "        text-align: right;\n",
       "    }\n",
       "</style>\n",
       "<table border=\"1\" class=\"dataframe\">\n",
       "  <thead>\n",
       "    <tr style=\"text-align: right;\">\n",
       "      <th></th>\n",
       "      <th>memid</th>\n",
       "      <th>surname</th>\n",
       "      <th>firstname</th>\n",
       "      <th>address</th>\n",
       "      <th>zipcode</th>\n",
       "      <th>telephone</th>\n",
       "      <th>recommendedby</th>\n",
       "      <th>joindate</th>\n",
       "    </tr>\n",
       "  </thead>\n",
       "  <tbody>\n",
       "    <tr>\n",
       "      <th>0</th>\n",
       "      <td>0</td>\n",
       "      <td>GUEST</td>\n",
       "      <td>GUEST</td>\n",
       "      <td>GUEST</td>\n",
       "      <td>0</td>\n",
       "      <td>(000) 000-0000</td>\n",
       "      <td></td>\n",
       "      <td>2012-07-01 00:00:00</td>\n",
       "    </tr>\n",
       "    <tr>\n",
       "      <th>1</th>\n",
       "      <td>1</td>\n",
       "      <td>Smith</td>\n",
       "      <td>Darren</td>\n",
       "      <td>8 Bloomsbury Close, Boston</td>\n",
       "      <td>4321</td>\n",
       "      <td>555-555-5555</td>\n",
       "      <td></td>\n",
       "      <td>2012-07-02 12:02:05</td>\n",
       "    </tr>\n",
       "    <tr>\n",
       "      <th>2</th>\n",
       "      <td>2</td>\n",
       "      <td>Smith</td>\n",
       "      <td>Tracy</td>\n",
       "      <td>8 Bloomsbury Close, New York</td>\n",
       "      <td>4321</td>\n",
       "      <td>555-555-5555</td>\n",
       "      <td></td>\n",
       "      <td>2012-07-02 12:08:23</td>\n",
       "    </tr>\n",
       "    <tr>\n",
       "      <th>3</th>\n",
       "      <td>3</td>\n",
       "      <td>Rownam</td>\n",
       "      <td>Tim</td>\n",
       "      <td>23 Highway Way, Boston</td>\n",
       "      <td>23423</td>\n",
       "      <td>(844) 693-0723</td>\n",
       "      <td></td>\n",
       "      <td>2012-07-03 09:32:15</td>\n",
       "    </tr>\n",
       "    <tr>\n",
       "      <th>4</th>\n",
       "      <td>4</td>\n",
       "      <td>Joplette</td>\n",
       "      <td>Janice</td>\n",
       "      <td>20 Crossing Road, New York</td>\n",
       "      <td>234</td>\n",
       "      <td>(833) 942-4710</td>\n",
       "      <td>1</td>\n",
       "      <td>2012-07-03 10:25:05</td>\n",
       "    </tr>\n",
       "    <tr>\n",
       "      <th>5</th>\n",
       "      <td>5</td>\n",
       "      <td>Butters</td>\n",
       "      <td>Gerald</td>\n",
       "      <td>1065 Huntingdon Avenue, Boston</td>\n",
       "      <td>56754</td>\n",
       "      <td>(844) 078-4130</td>\n",
       "      <td>1</td>\n",
       "      <td>2012-07-09 10:44:09</td>\n",
       "    </tr>\n",
       "    <tr>\n",
       "      <th>6</th>\n",
       "      <td>6</td>\n",
       "      <td>Tracy</td>\n",
       "      <td>Burton</td>\n",
       "      <td>3 Tunisia Drive, Boston</td>\n",
       "      <td>45678</td>\n",
       "      <td>(822) 354-9973</td>\n",
       "      <td></td>\n",
       "      <td>2012-07-15 08:52:55</td>\n",
       "    </tr>\n",
       "    <tr>\n",
       "      <th>7</th>\n",
       "      <td>7</td>\n",
       "      <td>Dare</td>\n",
       "      <td>Nancy</td>\n",
       "      <td>6 Hunting Lodge Way, Boston</td>\n",
       "      <td>10383</td>\n",
       "      <td>(833) 776-4001</td>\n",
       "      <td>4</td>\n",
       "      <td>2012-07-25 08:59:12</td>\n",
       "    </tr>\n",
       "    <tr>\n",
       "      <th>8</th>\n",
       "      <td>8</td>\n",
       "      <td>Boothe</td>\n",
       "      <td>Tim</td>\n",
       "      <td>3 Bloomsbury Close, Reading, 00234</td>\n",
       "      <td>234</td>\n",
       "      <td>(811) 433-2547</td>\n",
       "      <td>3</td>\n",
       "      <td>2012-07-25 16:02:35</td>\n",
       "    </tr>\n",
       "    <tr>\n",
       "      <th>9</th>\n",
       "      <td>9</td>\n",
       "      <td>Stibbons</td>\n",
       "      <td>Ponder</td>\n",
       "      <td>5 Dragons Way, Winchester</td>\n",
       "      <td>87630</td>\n",
       "      <td>(833) 160-3900</td>\n",
       "      <td>6</td>\n",
       "      <td>2012-07-25 17:09:05</td>\n",
       "    </tr>\n",
       "  </tbody>\n",
       "</table>\n",
       "</div>"
      ],
      "text/plain": [
       "   memid   surname firstname                             address  zipcode  \\\n",
       "0      0     GUEST     GUEST                               GUEST        0   \n",
       "1      1     Smith    Darren          8 Bloomsbury Close, Boston     4321   \n",
       "2      2     Smith     Tracy        8 Bloomsbury Close, New York     4321   \n",
       "3      3    Rownam       Tim              23 Highway Way, Boston    23423   \n",
       "4      4  Joplette    Janice          20 Crossing Road, New York      234   \n",
       "5      5   Butters    Gerald      1065 Huntingdon Avenue, Boston    56754   \n",
       "6      6     Tracy    Burton             3 Tunisia Drive, Boston    45678   \n",
       "7      7      Dare     Nancy         6 Hunting Lodge Way, Boston    10383   \n",
       "8      8    Boothe       Tim  3 Bloomsbury Close, Reading, 00234      234   \n",
       "9      9  Stibbons    Ponder           5 Dragons Way, Winchester    87630   \n",
       "\n",
       "        telephone recommendedby             joindate  \n",
       "0  (000) 000-0000                2012-07-01 00:00:00  \n",
       "1    555-555-5555                2012-07-02 12:02:05  \n",
       "2    555-555-5555                2012-07-02 12:08:23  \n",
       "3  (844) 693-0723                2012-07-03 09:32:15  \n",
       "4  (833) 942-4710             1  2012-07-03 10:25:05  \n",
       "5  (844) 078-4130             1  2012-07-09 10:44:09  \n",
       "6  (822) 354-9973                2012-07-15 08:52:55  \n",
       "7  (833) 776-4001             4  2012-07-25 08:59:12  \n",
       "8  (811) 433-2547             3  2012-07-25 16:02:35  \n",
       "9  (833) 160-3900             6  2012-07-25 17:09:05  "
      ]
     },
     "execution_count": 100,
     "metadata": {},
     "output_type": "execute_result"
    }
   ],
   "source": [
    "import pandas as pd \n",
    "from sqlalchemy import create_engine\n",
    "engine = create_engine('sqlite:///sqlite_db_pythonsqlite.db')\n",
    "\n",
    "df = pd.read_sql_query(\"select * from Members limit 10\", engine)\n",
    "df"
   ]
  },
  {
   "cell_type": "code",
   "execution_count": null,
   "id": "4e1eb7cb",
   "metadata": {},
   "outputs": [],
   "source": []
  }
 ],
 "metadata": {
  "kernelspec": {
   "display_name": "springb",
   "language": "python",
   "name": "springb"
  },
  "language_info": {
   "codemirror_mode": {
    "name": "ipython",
    "version": 3
   },
   "file_extension": ".py",
   "mimetype": "text/x-python",
   "name": "python",
   "nbconvert_exporter": "python",
   "pygments_lexer": "ipython3",
   "version": "3.8.8"
  }
 },
 "nbformat": 4,
 "nbformat_minor": 5
}
